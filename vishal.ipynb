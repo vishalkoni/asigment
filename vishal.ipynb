{
 "cells": [
  {
   "cell_type": "code",
   "execution_count": 1,
   "id": "06cb2dfa-28ae-4f96-9e98-33816cc0e58a",
   "metadata": {},
   "outputs": [],
   "source": [
    "d={}"
   ]
  },
  {
   "cell_type": "code",
   "execution_count": 4,
   "id": "ca486e6c-0c71-4991-8e93-88b7d52c7bda",
   "metadata": {},
   "outputs": [
    {
     "data": {
      "text/plain": [
       "dict"
      ]
     },
     "execution_count": 4,
     "metadata": {},
     "output_type": "execute_result"
    }
   ],
   "source": [
    "type(d)"
   ]
  },
  {
   "cell_type": "code",
   "execution_count": 11,
   "id": "aa6cb566-6bfd-42d5-bb9b-e28d257994e3",
   "metadata": {},
   "outputs": [],
   "source": [
    "d1={'key':'vishal'}"
   ]
  },
  {
   "cell_type": "code",
   "execution_count": 13,
   "id": "85ef5ed4-9922-47c8-a38d-96ab39f73f58",
   "metadata": {},
   "outputs": [
    {
     "data": {
      "text/plain": [
       "{'key': 'vishal'}"
      ]
     },
     "execution_count": 13,
     "metadata": {},
     "output_type": "execute_result"
    }
   ],
   "source": [
    "d1"
   ]
  },
  {
   "cell_type": "code",
   "execution_count": 17,
   "id": "148d202d-84c9-43bd-a094-d8725447da99",
   "metadata": {},
   "outputs": [],
   "source": [
    "d2={'name':'vishal','email':'vishalkoni8@gmail.com','number':9686172382}"
   ]
  },
  {
   "cell_type": "code",
   "execution_count": 19,
   "id": "b0222592-02d9-439c-b311-9026b2f3aca4",
   "metadata": {},
   "outputs": [
    {
     "data": {
      "text/plain": [
       "{'name': 'vishal', 'email': 'vishalkoni8@gmail.com', 'number': 9686172382}"
      ]
     },
     "execution_count": 19,
     "metadata": {},
     "output_type": "execute_result"
    }
   ],
   "source": [
    "d2"
   ]
  },
  {
   "cell_type": "code",
   "execution_count": 2,
   "id": "abfd6670-a8b8-451d-b4cd-7d340d539c48",
   "metadata": {},
   "outputs": [],
   "source": [
    "d3={234:'vishal','wer':'kumar',True:24234}"
   ]
  },
  {
   "cell_type": "code",
   "execution_count": 2,
   "id": "619c8cbb-8321-4e82-a607-5b7681d3ff3e",
   "metadata": {},
   "outputs": [
    {
     "data": {
      "text/plain": [
       "{234: 'vishal', 'wer': 'kumar', True: 24234}"
      ]
     },
     "execution_count": 2,
     "metadata": {},
     "output_type": "execute_result"
    }
   ],
   "source": [
    "d3"
   ]
  },
  {
   "cell_type": "code",
   "execution_count": 3,
   "id": "c5abbc07-89c4-4f68-a92e-f2d1e1a8c048",
   "metadata": {},
   "outputs": [
    {
     "data": {
      "text/plain": [
       "{234: 'vishal', 'wer': 'kumar', True: 24234}"
      ]
     },
     "execution_count": 3,
     "metadata": {},
     "output_type": "execute_result"
    }
   ],
   "source": [
    "d3"
   ]
  },
  {
   "cell_type": "code",
   "execution_count": 7,
   "id": "483aa18c-af3f-48c2-872b-191aac5fb2e1",
   "metadata": {},
   "outputs": [
    {
     "data": {
      "text/plain": [
       "'kumar'"
      ]
     },
     "execution_count": 7,
     "metadata": {},
     "output_type": "execute_result"
    }
   ],
   "source": [
    "d3['wer']"
   ]
  },
  {
   "cell_type": "code",
   "execution_count": 8,
   "id": "830ec7b5-2640-46bc-9996-f99a1edceedd",
   "metadata": {},
   "outputs": [
    {
     "data": {
      "text/plain": [
       "'vishal'"
      ]
     },
     "execution_count": 8,
     "metadata": {},
     "output_type": "execute_result"
    }
   ],
   "source": [
    "d3[234]"
   ]
  },
  {
   "cell_type": "code",
   "execution_count": 12,
   "id": "cb16553e-11b7-45ba-b1c4-c0c89972cfde",
   "metadata": {},
   "outputs": [],
   "source": [
    "d4={'name':'vishalkoni23','mail':'vishalkonni8gmail.com','name':'vishalkoni'}"
   ]
  },
  {
   "cell_type": "code",
   "execution_count": 15,
   "id": "d42d99fa-87d4-4715-9d0e-b4877df854ab",
   "metadata": {},
   "outputs": [
    {
     "data": {
      "text/plain": [
       "'vishalkoni'"
      ]
     },
     "execution_count": 15,
     "metadata": {},
     "output_type": "execute_result"
    }
   ],
   "source": [
    "d4['name']"
   ]
  },
  {
   "cell_type": "code",
   "execution_count": 18,
   "id": "93906c67-dd0d-4353-a3b5-6e92489417fe",
   "metadata": {},
   "outputs": [],
   "source": [
    "d5={'compony':'pwskills','course':['webdev','data scince','java with dsa system disign']}"
   ]
  },
  {
   "cell_type": "code",
   "execution_count": 22,
   "id": "0a6c1f5a-14c7-4a07-bc98-78af3c68dfc3",
   "metadata": {},
   "outputs": [
    {
     "data": {
      "text/plain": [
       "'data scince'"
      ]
     },
     "execution_count": 22,
     "metadata": {},
     "output_type": "execute_result"
    }
   ],
   "source": [
    "d5['course'][1]"
   ]
  },
  {
   "cell_type": "code",
   "execution_count": 29,
   "id": "13377c21-4a9c-4a51-bdb7-c5832c93c53e",
   "metadata": {},
   "outputs": [],
   "source": [
    "d6={'number':[2,34,3,34,34],'assigment':(1,2,3,4,5,6),'28,12,14},}lunch_data':{"
   ]
  },
  {
   "cell_type": "code",
   "execution_count": 28,
   "id": "6715a47b-cb38-4a8c-a7ba-2d095af85c27",
   "metadata": {},
   "outputs": [
    {
     "data": {
      "text/plain": [
       "5"
      ]
     },
     "execution_count": 28,
     "metadata": {},
     "output_type": "execute_result"
    }
   ],
   "source": [
    "d6['assigment'][4]"
   ]
  },
  {
   "cell_type": "code",
   "execution_count": 34,
   "id": "4a7608d0-f1d5-4337-997e-cc2a34d0b607",
   "metadata": {},
   "outputs": [
    {
     "ename": "SyntaxError",
     "evalue": "invalid syntax (1978107225.py, line 1)",
     "output_type": "error",
     "traceback": [
      "\u001b[0;36m  Cell \u001b[0;32mIn[34], line 1\u001b[0;36m\u001b[0m\n\u001b[0;31m    d6['lunch_data']{2}\u001b[0m\n\u001b[0m                    ^\u001b[0m\n\u001b[0;31mSyntaxError\u001b[0m\u001b[0;31m:\u001b[0m invalid syntax\n"
     ]
    }
   ],
   "source": [
    "d6['lunch_data']{2}"
   ]
  },
  {
   "cell_type": "code",
   "execution_count": 60,
   "id": "b06a4c44-a089-4a66-8804-0fa49ff09194",
   "metadata": {},
   "outputs": [],
   "source": [
    "d6['number']= [2, 34, 3, 34, 34]"
   ]
  },
  {
   "cell_type": "code",
   "execution_count": 36,
   "id": "2d97f6b8-6134-4b63-a867-d8ffebd12a95",
   "metadata": {},
   "outputs": [
    {
     "data": {
      "text/plain": [
       "{'number': [2, 34, 3, 34, 34],\n",
       " 'assigment': (1, 2, 3, 4, 5, 6),\n",
       " 'lunch_data': {12, 14, 28},\n",
       " 'mentor': ['vishalkoni', 'koni', 'king']}"
      ]
     },
     "execution_count": 36,
     "metadata": {},
     "output_type": "execute_result"
    }
   ],
   "source": [
    "d6"
   ]
  },
  {
   "cell_type": "code",
   "execution_count": 39,
   "id": "a7c64968-541b-4d80-b0cb-100b6c6ab04e",
   "metadata": {},
   "outputs": [],
   "source": [
    "del d6['number']"
   ]
  },
  {
   "cell_type": "code",
   "execution_count": 43,
   "id": "c17b3eb9-1f84-4a88-9190-fb5e06c21fea",
   "metadata": {},
   "outputs": [
    {
     "data": {
      "text/plain": [
       "{'assigment': (1, 2, 3, 4, 5, 6),\n",
       " 'lunch_data': {12, 14, 28},\n",
       " 'mentor': ['vishalkoni', 'koni', 'king'],\n",
       " 'number': [2, 34, 3, 34, 34]}"
      ]
     },
     "execution_count": 43,
     "metadata": {},
     "output_type": "execute_result"
    }
   ],
   "source": [
    "d6"
   ]
  },
  {
   "cell_type": "code",
   "execution_count": 48,
   "id": "5bc5b5cd-3cd3-4a8a-93a1-3b431c672a76",
   "metadata": {},
   "outputs": [
    {
     "data": {
      "text/plain": [
       "['assigment', 'lunch_data', 'mentor', 'number']"
      ]
     },
     "execution_count": 48,
     "metadata": {},
     "output_type": "execute_result"
    }
   ],
   "source": [
    "list(d6.keys())"
   ]
  },
  {
   "cell_type": "code",
   "execution_count": 50,
   "id": "abe91505-8f84-4683-9633-614cb2fbf482",
   "metadata": {},
   "outputs": [
    {
     "data": {
      "text/plain": [
       "[(1, 2, 3, 4, 5, 6),\n",
       " {12, 14, 28},\n",
       " ['vishalkoni', 'koni', 'king'],\n",
       " [2, 34, 3, 34, 34]]"
      ]
     },
     "execution_count": 50,
     "metadata": {},
     "output_type": "execute_result"
    }
   ],
   "source": [
    "list(d6.values())"
   ]
  },
  {
   "cell_type": "code",
   "execution_count": 52,
   "id": "31b76311-7019-4ea1-a596-1a2687a65eea",
   "metadata": {},
   "outputs": [
    {
     "data": {
      "text/plain": [
       "[('assigment', (1, 2, 3, 4, 5, 6)),\n",
       " ('lunch_data', {12, 14, 28}),\n",
       " ('mentor', ['vishalkoni', 'koni', 'king']),\n",
       " ('number', [2, 34, 3, 34, 34])]"
      ]
     },
     "execution_count": 52,
     "metadata": {},
     "output_type": "execute_result"
    }
   ],
   "source": [
    "list(d6.items())"
   ]
  },
  {
   "cell_type": "code",
   "execution_count": 59,
   "id": "e0d7b36d-5069-47d5-be09-12515bccc81f",
   "metadata": {},
   "outputs": [
    {
     "data": {
      "text/plain": [
       "['assigment', 'lunch_data', 'mentor']"
      ]
     },
     "execution_count": 59,
     "metadata": {},
     "output_type": "execute_result"
    }
   ],
   "source": [
    "list(d6)"
   ]
  },
  {
   "cell_type": "code",
   "execution_count": 61,
   "id": "64348bf7-6b7f-4eb0-a483-c3de8bdfddcb",
   "metadata": {},
   "outputs": [
    {
     "data": {
      "text/plain": [
       "{'assigment': (1, 2, 3, 4, 5, 6),\n",
       " 'lunch_data': {12, 14, 28},\n",
       " 'mentor': ['vishalkoni', 'koni', 'king'],\n",
       " 'number': [2, 34, 3, 34, 34]}"
      ]
     },
     "execution_count": 61,
     "metadata": {},
     "output_type": "execute_result"
    }
   ],
   "source": [
    "d6"
   ]
  },
  {
   "cell_type": "code",
   "execution_count": 67,
   "id": "9f2d329c-0c4d-4b6e-9e61-b3707971aa68",
   "metadata": {},
   "outputs": [
    {
     "ename": "SyntaxError",
     "evalue": "expected ':' (3103115079.py, line 4)",
     "output_type": "error",
     "traceback": [
      "\u001b[0;36m  Cell \u001b[0;32mIn[67], line 4\u001b[0;36m\u001b[0m\n\u001b[0;31m    elif marks >=60 and marks <80\u001b[0m\n\u001b[0m                                 ^\u001b[0m\n\u001b[0;31mSyntaxError\u001b[0m\u001b[0;31m:\u001b[0m expected ':'\n"
     ]
    }
   ],
   "source": [
    "marks =65\n",
    "if marks>=80:\n",
    "    print('you will bea part of A0batch')\n",
    "elif marks >=60 and marks <80\n",
    "    print('you will be a part of A1 batch')\n",
    "elif marks >=40 and marks <60:\n",
    "    print ('you will be a part of A3 batch') \n",
    "else :\n",
    "    print ('you will be a part of A3 batch')"
   ]
  },
  {
   "cell_type": "code",
   "execution_count": null,
   "id": "e00d303b-1e9c-432c-a83b-553eed62fc79",
   "metadata": {},
   "outputs": [],
   "source": [
    "marks = int(input(56))\n",
    "if marks >= 80:\n",
    "    print(\"you will be a part of A0 batch\")\n",
    "elif marks >= 60 and marks< 80:\n",
    "    print(\"you will be a part of A1 batch\")\n",
    "elif marks >= 40 and marks < 60 :\n",
    "    print(\"you will be a part of A2 batch \")\n",
    "else :\n",
    "    print(\"you will be a part of A3 batch \")\n",
    "    "
   ]
  },
  {
   "cell_type": "code",
   "execution_count": 9,
   "id": "22fbc20a-08c2-4109-ac1f-e7814565159d",
   "metadata": {},
   "outputs": [
    {
     "name": "stdout",
     "output_type": "stream",
     "text": [
      "you will be a part of A3 batch\n"
     ]
    }
   ],
   "source": [
    "marks= -12\n",
    "if marks >=80:\n",
    "     print('you will be a part of a0 batch')\n",
    "elif marks >=60 and marks<80:\n",
    "     print('you will be a  part of A1 batch' )\n",
    "elif marks >40 and marks <60:\n",
    "     print('you will be a part of A2 batch ') \n",
    "else :\n",
    "     print('you will be a part of A3 batch' )\n",
    "    "
   ]
  },
  {
   "cell_type": "code",
   "execution_count": 14,
   "id": "1744b3e7-d33e-4be2-9b85-c43002830c7a",
   "metadata": {},
   "outputs": [
    {
     "data": {
      "text/plain": [
       "True"
      ]
     },
     "execution_count": 14,
     "metadata": {},
     "output_type": "execute_result"
    }
   ],
   "source": [
    "88>= 80"
   ]
  },
  {
   "cell_type": "code",
   "execution_count": null,
   "id": "079e14ad-bcba-4ef4-958c-40095e25ace7",
   "metadata": {},
   "outputs": [],
   "source": [
    "80>=80"
   ]
  },
  {
   "cell_type": "code",
   "execution_count": 19,
   "id": "dcdb8892-c7dd-42c9-9262-79aa7ff41bd4",
   "metadata": {},
   "outputs": [
    {
     "name": "stdout",
     "output_type": "stream",
     "text": [
      "you will be a part of A2 batch \n"
     ]
    }
   ],
   "source": [
    "marks= 56\n",
    "if marks >=80:\n",
    "     print('you will be a part of a0 batch')\n",
    "elif marks >=60 and marks<80:\n",
    "     print('you will be a  part of A1 batch' )\n",
    "elif marks >40 and marks <60:\n",
    "     print('you will be a part of A2 batch ') \n",
    "else :\n",
    "     print('you will be a part of A3 batch' )\n",
    "    "
   ]
  },
  {
   "cell_type": "code",
   "execution_count": null,
   "id": "d219a5f4-87ea-4521-927d-5759a835ea20",
   "metadata": {},
   "outputs": [],
   "source": [
    "c=67"
   ]
  },
  {
   "cell_type": "code",
   "execution_count": 17,
   "id": "f87885bf-cc67-4e8a-a93a-89f550fd6af1",
   "metadata": {},
   "outputs": [
    {
     "ename": "IndentationError",
     "evalue": "unindent does not match any outer indentation level (<tokenize>, line 10)",
     "output_type": "error",
     "traceback": [
      "\u001b[0;36m  File \u001b[0;32m<tokenize>:10\u001b[0;36m\u001b[0m\n\u001b[0;31m    mark=45\u001b[0m\n\u001b[0m    ^\u001b[0m\n\u001b[0;31mIndentationError\u001b[0m\u001b[0;31m:\u001b[0m unindent does not match any outer indentation level\n"
     ]
    }
   ],
   "source": [
    "marks= input ('enter your marks')\n",
    "if marks >=80:\n",
    "     print('you will be a part of a0 batch')\n",
    "elif marks >=60 and marks<80:\n",
    "     print('you will be a  part of A1 batch' )\n",
    "elif marks >40 and marks <60:\n",
    "     print('you will be a part of A2 batch ') \n",
    "else :\n",
    "     print('you will be a part of A3 batch' )\n",
    " "
   ]
  },
  {
   "cell_type": "code",
   "execution_count": 3,
   "id": "70e27342-c76a-49e8-93ac-4db1533fe7fb",
   "metadata": {},
   "outputs": [
    {
     "data": {
      "text/plain": [
       "int"
      ]
     },
     "execution_count": 3,
     "metadata": {},
     "output_type": "execute_result"
    }
   ],
   "source": [
    "type(marks)"
   ]
  },
  {
   "cell_type": "code",
   "execution_count": 11,
   "id": "425c2812-17d1-4a36-98b9-a1ac580c81c5",
   "metadata": {},
   "outputs": [
    {
     "name": "stdin",
     "output_type": "stream",
     "text": [
      "enter your marks 45\n"
     ]
    }
   ],
   "source": [
    "marks=float (input ('enter your marks'))"
   ]
  },
  {
   "cell_type": "code",
   "execution_count": 12,
   "id": "a8f537fe-1d7b-4725-9097-b1124aae43eb",
   "metadata": {},
   "outputs": [
    {
     "data": {
      "text/plain": [
       "float"
      ]
     },
     "execution_count": 12,
     "metadata": {},
     "output_type": "execute_result"
    }
   ],
   "source": [
    "type(marks)"
   ]
  },
  {
   "cell_type": "code",
   "execution_count": 13,
   "id": "8a18bd76-1acb-46b7-92c6-07f73d293df2",
   "metadata": {},
   "outputs": [
    {
     "data": {
      "text/plain": [
       "45.0"
      ]
     },
     "execution_count": 13,
     "metadata": {},
     "output_type": "execute_result"
    }
   ],
   "source": [
    "marks"
   ]
  },
  {
   "cell_type": "code",
   "execution_count": 22,
   "id": "df2d9c6f-ed45-4e5f-a250-244a67d3c3ff",
   "metadata": {},
   "outputs": [
    {
     "data": {
      "text/plain": [
       "True"
      ]
     },
     "execution_count": 22,
     "metadata": {},
     "output_type": "execute_result"
    }
   ],
   "source": [
    "80<=90"
   ]
  },
  {
   "cell_type": "code",
   "execution_count": 33,
   "id": "e2b0d574-e7b1-4136-9177-0d5eafcfffdd",
   "metadata": {},
   "outputs": [
    {
     "name": "stdin",
     "output_type": "stream",
     "text": [
      "enter price 700\n"
     ]
    },
    {
     "name": "stdout",
     "output_type": "stream",
     "text": [
      "i will purches\n"
     ]
    }
   ],
   "source": [
    "price=int(input('enter price'))\n",
    "if price>1000:\n",
    "    print('i will purches')\n",
    "else:\n",
    "    print('i will purches')"
   ]
  },
  {
   "cell_type": "code",
   "execution_count": 38,
   "id": "ece6999a-8a07-4980-ba8d-e1905f0b70e9",
   "metadata": {},
   "outputs": [
    {
     "ename": "IndentationError",
     "evalue": "unexpected indent (2284213842.py, line 13)",
     "output_type": "error",
     "traceback": [
      "\u001b[0;36m  Cell \u001b[0;32mIn[38], line 13\u001b[0;36m\u001b[0m\n\u001b[0;31m    elif price <2000:\u001b[0m\n\u001b[0m    ^\u001b[0m\n\u001b[0;31mIndentationError\u001b[0m\u001b[0;31m:\u001b[0m unexpected indent\n"
     ]
    }
   ],
   "source": []
  },
  {
   "cell_type": "code",
   "execution_count": 1,
   "id": "5dbb87bb-e92a-44a2-929d-fda38e604227",
   "metadata": {},
   "outputs": [],
   "source": [
    "l=[1,2,3,4,5,6,7,8,]"
   ]
  },
  {
   "cell_type": "code",
   "execution_count": 44,
   "id": "83c681ac-8019-4569-be1b-b8d6327a76a0",
   "metadata": {},
   "outputs": [
    {
     "data": {
      "text/plain": [
       "2"
      ]
     },
     "execution_count": 44,
     "metadata": {},
     "output_type": "execute_result"
    }
   ],
   "source": [
    "l[0]+1"
   ]
  },
  {
   "cell_type": "code",
   "execution_count": 45,
   "id": "d192a73e-e0d5-4fe8-b6de-240bec48c89c",
   "metadata": {},
   "outputs": [],
   "source": [
    "l1=[]"
   ]
  },
  {
   "cell_type": "code",
   "execution_count": 46,
   "id": "6f17934e-e61e-4269-aaa3-c8ceaabb1f86",
   "metadata": {},
   "outputs": [],
   "source": [
    "l1.append(l[0]+1)"
   ]
  },
  {
   "cell_type": "code",
   "execution_count": 47,
   "id": "55f022eb-2497-44cf-8c18-4e58151fe3ef",
   "metadata": {},
   "outputs": [
    {
     "data": {
      "text/plain": [
       "[2]"
      ]
     },
     "execution_count": 47,
     "metadata": {},
     "output_type": "execute_result"
    }
   ],
   "source": [
    "l1"
   ]
  },
  {
   "cell_type": "code",
   "execution_count": 48,
   "id": "31311221-1975-4562-b0bf-3aa94b109c63",
   "metadata": {},
   "outputs": [
    {
     "data": {
      "text/plain": [
       "[1, 2, 3, 4, 5, 6, 7, 8]"
      ]
     },
     "execution_count": 48,
     "metadata": {},
     "output_type": "execute_result"
    }
   ],
   "source": [
    "l"
   ]
  },
  {
   "cell_type": "code",
   "execution_count": 2,
   "id": "59ed22cb-8415-4218-a609-5fd0c566fdfe",
   "metadata": {},
   "outputs": [
    {
     "data": {
      "text/plain": [
       "[1, 2, 3, 4, 5, 6, 7, 8]"
      ]
     },
     "execution_count": 2,
     "metadata": {},
     "output_type": "execute_result"
    }
   ],
   "source": [
    "l"
   ]
  },
  {
   "cell_type": "code",
   "execution_count": 3,
   "id": "b4f89e2e-3edb-435a-83b2-4ad9acfdb6b4",
   "metadata": {},
   "outputs": [
    {
     "data": {
      "text/plain": [
       "1"
      ]
     },
     "execution_count": 3,
     "metadata": {},
     "output_type": "execute_result"
    }
   ],
   "source": [
    "l[0]"
   ]
  },
  {
   "cell_type": "code",
   "execution_count": 4,
   "id": "2be58f34-f7e8-4088-aebe-79f985327338",
   "metadata": {},
   "outputs": [],
   "source": [
    "l1=[]"
   ]
  },
  {
   "cell_type": "code",
   "execution_count": 7,
   "id": "a38c3831-58d3-48e5-8672-e9efedebd66d",
   "metadata": {},
   "outputs": [],
   "source": [
    "l1.append(l[0]+1)"
   ]
  },
  {
   "cell_type": "code",
   "execution_count": 8,
   "id": "06dabf64-9cef-4099-88cd-3487e97d7fd4",
   "metadata": {},
   "outputs": [
    {
     "data": {
      "text/plain": [
       "[2, 2]"
      ]
     },
     "execution_count": 8,
     "metadata": {},
     "output_type": "execute_result"
    }
   ],
   "source": [
    "l1\n"
   ]
  },
  {
   "cell_type": "code",
   "execution_count": 16,
   "id": "8d917397-ee1a-4c79-a8b7-bebce4ce43fc",
   "metadata": {},
   "outputs": [
    {
     "name": "stdout",
     "output_type": "stream",
     "text": [
      "1\n",
      "2\n",
      "3\n",
      "4\n",
      "5\n",
      "6\n",
      "7\n",
      "8\n"
     ]
    }
   ],
   "source": [
    "l1=[]\n",
    "for i in l :\n",
    "    print (i)\n",
    "    l1.append(i+1)\n",
    "    l1"
   ]
  },
  {
   "cell_type": "code",
   "execution_count": 17,
   "id": "64c60c37-9c69-459c-873c-af847139d987",
   "metadata": {},
   "outputs": [
    {
     "data": {
      "text/plain": [
       "[1, 2, 3, 4, 5, 6, 7, 8]"
      ]
     },
     "execution_count": 17,
     "metadata": {},
     "output_type": "execute_result"
    }
   ],
   "source": [
    "l"
   ]
  },
  {
   "cell_type": "code",
   "execution_count": 18,
   "id": "f391e912-7f28-40db-b19f-7b1157c2c547",
   "metadata": {},
   "outputs": [
    {
     "data": {
      "text/plain": [
       "[2, 3, 4, 5, 6, 7, 8, 9]"
      ]
     },
     "execution_count": 18,
     "metadata": {},
     "output_type": "execute_result"
    }
   ],
   "source": [
    "l1"
   ]
  },
  {
   "cell_type": "code",
   "execution_count": 19,
   "id": "33fee8c2-1204-4be5-8884-4a2b3e795372",
   "metadata": {},
   "outputs": [],
   "source": [
    "l=['vishal', 'kumar', 'pwskills','course']\n"
   ]
  },
  {
   "cell_type": "code",
   "execution_count": 21,
   "id": "e73559b5-d657-4b06-98cd-304c563a4338",
   "metadata": {},
   "outputs": [
    {
     "name": "stdout",
     "output_type": "stream",
     "text": [
      "vishal\n",
      "kumar\n",
      "pwskills\n",
      "course\n"
     ]
    }
   ],
   "source": [
    "l1=[]\n",
    "for i in l :\n",
    "    print(i)\n",
    "    l1.append(i. upper())"
   ]
  },
  {
   "cell_type": "code",
   "execution_count": 22,
   "id": "40d6d054-a830-4f79-aa9e-c5dea0106031",
   "metadata": {},
   "outputs": [
    {
     "data": {
      "text/plain": [
       "['VISHAL', 'KUMAR', 'PWSKILLS', 'COURSE']"
      ]
     },
     "execution_count": 22,
     "metadata": {},
     "output_type": "execute_result"
    }
   ],
   "source": [
    "l1"
   ]
  },
  {
   "cell_type": "code",
   "execution_count": 24,
   "id": "aa9ddd57-aaa2-48e4-a30c-a143d3245c48",
   "metadata": {},
   "outputs": [],
   "source": [
    "l=[1,2,3,4,4 ,'vishal','kumar',324,34,456,'abc']"
   ]
  },
  {
   "cell_type": "code",
   "execution_count": 28,
   "id": "b4bf5177-f610-4550-86cf-a2770f669b9d",
   "metadata": {},
   "outputs": [
    {
     "ename": "SyntaxError",
     "evalue": "invalid syntax (3918038981.py, line 6)",
     "output_type": "error",
     "traceback": [
      "\u001b[0;36m  Cell \u001b[0;32mIn[28], line 6\u001b[0;36m\u001b[0m\n\u001b[0;31m    else:\u001b[0m\n\u001b[0m    ^\u001b[0m\n\u001b[0;31mSyntaxError\u001b[0m\u001b[0;31m:\u001b[0m invalid syntax\n"
     ]
    }
   ],
   "source": [
    "l1num =[]\n",
    "l2str =[]\n",
    "for i in l:\n",
    "    if type (i ) == int or type (i) == float:\n",
    "        l1num.append(i)\n",
    "        else:\n",
    "            l2str.append (i)"
   ]
  },
  {
   "cell_type": "code",
   "execution_count": 29,
   "id": "66762df9-4697-4a12-ae76-d69eb0936d80",
   "metadata": {},
   "outputs": [],
   "source": [
    "l1_num = []\n",
    "l2_str = []\n",
    "for i in l :\n",
    "    if type(i) == int or type(i) == float :\n",
    "        l1_num.append(i)\n",
    "    else :\n",
    "        l2_str.append(i)"
   ]
  },
  {
   "cell_type": "code",
   "execution_count": 30,
   "id": "00c5cc4a-72a1-4809-8564-3c4e9c5bd667",
   "metadata": {},
   "outputs": [
    {
     "data": {
      "text/plain": [
       "[1, 2, 3, 4, 4, 324, 34, 456]"
      ]
     },
     "execution_count": 30,
     "metadata": {},
     "output_type": "execute_result"
    }
   ],
   "source": [
    "l1_num"
   ]
  },
  {
   "cell_type": "code",
   "execution_count": 31,
   "id": "c9eed476-305e-497b-84d8-303ffce84431",
   "metadata": {},
   "outputs": [
    {
     "data": {
      "text/plain": [
       "['vishal', 'kumar', 'abc']"
      ]
     },
     "execution_count": 31,
     "metadata": {},
     "output_type": "execute_result"
    }
   ],
   "source": [
    "l2_str"
   ]
  },
  {
   "cell_type": "code",
   "execution_count": null,
   "id": "4d69935e-2fed-45d0-9232-21bed85d62bc",
   "metadata": {},
   "outputs": [],
   "source": []
  }
 ],
 "metadata": {
  "kernelspec": {
   "display_name": "Python 3 (ipykernel)",
   "language": "python",
   "name": "python3"
  },
  "language_info": {
   "codemirror_mode": {
    "name": "ipython",
    "version": 3
   },
   "file_extension": ".py",
   "mimetype": "text/x-python",
   "name": "python",
   "nbconvert_exporter": "python",
   "pygments_lexer": "ipython3",
   "version": "3.10.8"
  }
 },
 "nbformat": 4,
 "nbformat_minor": 5
}
